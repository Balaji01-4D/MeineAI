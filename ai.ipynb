{
 "cells": [
  {
   "cell_type": "code",
   "execution_count": null,
   "metadata": {},
   "outputs": [],
   "source": [
    "from spacy import load\n",
    "\n",
    "nlp = load('./FINALMODEL/model-best')\n",
    "import random\n",
    "from spacy import displacy\n",
    "import re\n",
    "\n"
   ]
  },
  {
   "cell_type": "code",
   "execution_count": null,
   "metadata": {},
   "outputs": [],
   "source": [
    "\n",
    "with open('/home/balaji/MeineAI/MeineAI/dataset/raw/allnotseen.txt') as file:\n",
    "    l = file.readlines()\n",
    "la=[]\n",
    "for i,j in enumerate(l):\n",
    "    # if (i == 100):\n",
    "    #     break\n",
    "    text = l[random.randint(0,len(l)-1)].replace('\\n','')\n",
    "    doc=nlp(text)\n",
    "    d={}\n",
    "    for ent in doc.ents:\n",
    "        if (d.__contains__(ent.label_)):\n",
    "            print(f\"contains duplicate {d}\")\n",
    "            \n",
    "        d[ent.label_] = ent.text\n",
    "\n",
    "        if (ent.label_ == 'ACTION'):\n",
    "            pattern = rf'^{re.escape(ent.text)}\\s'\n",
    "            if (not re.match(pattern,text)):\n",
    "                print(f'ACTION ERROR {d} in {text}')\n",
    "        \n",
    "        if (ent.label_ in {'FILE','FOLDER','TEXT'}):\n",
    "            pattern = rf'\\s{re.escape(ent.text)}\\s?'\n",
    "            filename = ' '+ent.text+' '\n",
    "            filenamelast = ' '+ent.text\n",
    "            if (filename in text or filenamelast in text):\n",
    "                None\n",
    "            else:\n",
    "                print('error',d,text)\n",
    "\n",
    "    la.append(d)\n",
    "    # displacy.render(doc,style='ent')\n"
   ]
  },
  {
   "cell_type": "code",
   "execution_count": null,
   "metadata": {},
   "outputs": [],
   "source": [
    "for d in la:\n",
    "    if (d.__contains__('ACTION')):\n",
    "        if (d['ACTION'].lower() in {'rename','rn'}):\n",
    "            print(\"rename\",\"passed\" if ((d.__contains__('NEWNAME') and d.__contains__('FILE') ^ d.__contains__('FOLDER')) or not(d.__contains__('DESTINATION'))) else f'failed by {d}')\n",
    "\n",
    "        elif (d['ACTION'].lower() in {'delete','del','rm','remove','rmdir','d'} ):\n",
    "            print('delete',\"passed\" if ((d.__contains__('FILE') ^ d.__contains__('FOLDER')) and not( d.__contains__('NEWNMAE') or d.__contains__('DESTINATION'))) else f'failed by {d}')\n",
    "    \n",
    "        elif (d['ACTION'].lower() in {'cp','copy','c','mv','move','push','m'} ):\n",
    "            print('COPY OR MOVE ',\"passed\" if ((d.__contains__('FILE') ^ d.__contains__('FOLDER')) and (d.__contains__('DESTINATION') and not d.__contains__('NEWNMAE'))) else f'failed by {d}')\n",
    "\n",
    "        \n",
    "        elif (d['ACTION'].lower() in {'unzip','zip','extract','z','uz','compress','decompress'}):\n",
    "            print('zip ',\"passed\" if (d.__contains__('FILE') ^ d.__contains__('FOLDER') and not (d.__contains__('DESTINATION') or d.__contains__('NEWNMAE'))) else f'failed by {d}')\n",
    "\n",
    "        \n",
    "    \n",
    "        elif (d['ACTION'].lower() in {'show','show content'}):\n",
    "            print('show',\"passed\" if (d.__contains__('FILE') ^ d.__contains__('FOLDER') and not (d.__contains__('DESTINATION') or d.__contains__('NEWNMAE'))) else f'failed by {d}')\n",
    "            \n",
    "        elif (d['ACTION'].lower() in {'create','make','mk','mkdir'}):\n",
    "            print('create',\"passed\" if (d.__contains__('FILE') ^ d.__contains__('FOLDER') and not (d.__contains__('DESTINATION') or d.__contains__('NEWNMAE'))) else f'failed by {d}')\n",
    "\n",
    "        \n",
    "        elif (d['ACTION'].lower() in {'search','where','find'}):\n",
    "            print('SEARCH ',\"passed\" if (d.__contains__('TEXT') and d.__contains__('FILE')  and not (d.__contains__('DESTINATION') or d.__contains__('NEWNMAE') or d.__contains__('FOLDER'))) else f'failed by {d}')\n",
    "\n",
    "        else :\n",
    "            print(d)\n",
    "    \n",
    "    \n",
    "            "
   ]
  },
  {
   "cell_type": "code",
   "execution_count": null,
   "metadata": {},
   "outputs": [],
   "source": [
    "a = \"find 'region' in C:/System/locale/settings.json\"\n",
    "\n",
    "b ='C:/System/locale/settings.json'\n",
    "print(b in a)\n"
   ]
  },
  {
   "cell_type": "code",
   "execution_count": null,
   "metadata": {},
   "outputs": [],
   "source": []
  },
  {
   "cell_type": "code",
   "execution_count": null,
   "metadata": {},
   "outputs": [],
   "source": []
  }
 ],
 "metadata": {
  "kernelspec": {
   "display_name": "Python 3",
   "language": "python",
   "name": "python3"
  },
  "language_info": {
   "codemirror_mode": {
    "name": "ipython",
    "version": 3
   },
   "file_extension": ".py",
   "mimetype": "text/x-python",
   "name": "python",
   "nbconvert_exporter": "python",
   "pygments_lexer": "ipython3",
   "version": "3.12.4"
  }
 },
 "nbformat": 4,
 "nbformat_minor": 2
}
