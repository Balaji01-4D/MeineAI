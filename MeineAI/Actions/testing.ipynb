{
 "cells": [
  {
   "cell_type": "code",
   "execution_count": null,
   "metadata": {},
   "outputs": [],
   "source": [
    "import pywifi\n",
    "from pywifi import const\n",
    "\n",
    "def scan_wifi_window():\n",
    "    wifi = pywifi.PyWiFi()\n",
    "    iface = wifi.interfaces()[0]  # Get the first wireless interface\n",
    "\n",
    "    iface.scan()  # Start scanning\n",
    "    scan_results = iface.scan_results()  # Get scan results\n",
    "\n",
    "    for network in scan_results:\n",
    "        print(f\"SSID: {network.ssid}, Signal: {network.signal}, Encrypted: {bool(network.akm)}\")\n",
    "\n",
    "scan_wifi_window()\n"
   ]
  },
  {
   "cell_type": "code",
   "execution_count": 2,
   "metadata": {},
   "outputs": [
    {
     "name": "stdout",
     "output_type": "stream",
     "text": [
      "SSID: \u001b[32mmoto g54 5G_7503\u001b[0m, Security: Locked\n",
      "SSID: \u001b[36mChandrasekar M\u001b[0m, Security: Locked\n",
      "SSID: \u001b[36mRajakumari Sanjeevan\u001b[0m, Security: Locked\n"
     ]
    }
   ],
   "source": [
    "import subprocess\n",
    "\n",
    "def scan_wifi_linux():\n",
    "    result = subprocess.run(['nmcli', '-t', '-f', 'SSID,SECURITY', 'dev', 'wifi'], stdout=subprocess.PIPE)\n",
    "    networks = result.stdout.decode('utf-8').strip().split('\\n')\n",
    "\n",
    "    for network in networks:\n",
    "        ssid, security = network.split(':', 1)\n",
    "        status = \"Locked\" if security else \"Open\"\n",
    "        print(f\"SSID: {ssid}, Security: {status}\")\n",
    "\n",
    "scan_wifi_linux()\n"
   ]
  },
  {
   "cell_type": "code",
   "execution_count": 20,
   "metadata": {},
   "outputs": [
    {
     "data": {
      "text/html": [
       "<pre style=\"white-space:pre;overflow-x:auto;line-height:normal;font-family:Menlo,'DejaVu Sans Mono',consolas,'Courier New',monospace\"><span style=\"color: #800080; text-decoration-color: #800080\">This script requires </span><span style=\"color: #800080; text-decoration-color: #800080\">'nmcli'</span><span style=\"color: #800080; text-decoration-color: #800080\"> for managing Wi-Fi.</span>\n",
       "</pre>\n"
      ],
      "text/plain": [
       "\u001b[35mThis script requires \u001b[0m\u001b[35m'nmcli'\u001b[0m\u001b[35m for managing Wi-Fi.\u001b[0m\n"
      ]
     },
     "metadata": {},
     "output_type": "display_data"
    },
    {
     "data": {
      "text/html": [
       "<pre style=\"white-space:pre;overflow-x:auto;line-height:normal;font-family:Menlo,'DejaVu Sans Mono',consolas,'Courier New',monospace\">To install it, run:\n",
       "</pre>\n"
      ],
      "text/plain": [
       "To install it, run:\n"
      ]
     },
     "metadata": {},
     "output_type": "display_data"
    },
    {
     "data": {
      "text/html": [
       "<pre style=\"white-space:pre;overflow-x:auto;line-height:normal;font-family:Menlo,'DejaVu Sans Mono',consolas,'Courier New',monospace\">  sudo apt install network-manager  # For Debian/Ubuntu\n",
       "</pre>\n"
      ],
      "text/plain": [
       "  sudo apt install network-manager  # For Debian/Ubuntu\n"
      ]
     },
     "metadata": {},
     "output_type": "display_data"
    },
    {
     "name": "stdout",
     "output_type": "stream",
     "text": [
      "  sudo yum install NetworkManager  # For RHEL/Fedora\n",
      "  sudo pacman -S networkmanager    # For Arch Linux\n"
     ]
    }
   ],
   "source": [
    "from tabulate import tabulate\n",
    "from rich.console import Console\n",
    "console = Console()\n",
    "def scan_wifi_linux(self) -> None:\n",
    "        import subprocess\n",
    "        result = subprocess.run(['nmcli', '-v'], stdout=subprocess.PIPE, stderr=subprocess.PIPE)\n",
    "        if result.returncode != 0:\n",
    "            result = subprocess.run(['nmcli', '-t', '-f', 'SSID,SECURITY', 'dev', 'wifi'], stdout=subprocess.PIPE)\n",
    "            networks = result.stdout.decode('utf-8').strip().split('\\n')\n",
    "\n",
    "            wifi_data = []\n",
    "            for network in networks:\n",
    "                if network.strip():  \n",
    "                    ssid, security = network.split(':', 1)\n",
    "                    status = \"Locked\" if security else \"Open\"\n",
    "                    wifi_data.append([ssid, status])\n",
    "            headers = [\"SSID\", \"Security\"]\n",
    "            print(tabulate(wifi_data, headers=headers, tablefmt=\"fancy_grid\"))\n",
    "        else:\n",
    "            console.print(\"[magenta]This script requires 'nmcli' for managing Wi-Fi.\")\n",
    "            console.print(\"To install it, run:\")\n",
    "            console.print(\"  sudo apt install network-manager  # For Debian/Ubuntu\")\n",
    "            print(\"  sudo yum install NetworkManager  # For RHEL/Fedora\")\n",
    "            print(\"  sudo pacman -S networkmanager    # For Arch Linux\")\n",
    "\n",
    "\n",
    "scan_wifi_linux('hie')"
   ]
  },
  {
   "cell_type": "code",
   "execution_count": null,
   "metadata": {},
   "outputs": [],
   "source": []
  },
  {
   "cell_type": "code",
   "execution_count": null,
   "metadata": {},
   "outputs": [],
   "source": []
  },
  {
   "cell_type": "code",
   "execution_count": null,
   "metadata": {},
   "outputs": [],
   "source": []
  }
 ],
 "metadata": {
  "kernelspec": {
   "display_name": "Python 3",
   "language": "python",
   "name": "python3"
  },
  "language_info": {
   "codemirror_mode": {
    "name": "ipython",
    "version": 3
   },
   "file_extension": ".py",
   "mimetype": "text/x-python",
   "name": "python",
   "nbconvert_exporter": "python",
   "pygments_lexer": "ipython3",
   "version": "3.12.4"
  }
 },
 "nbformat": 4,
 "nbformat_minor": 2
}
